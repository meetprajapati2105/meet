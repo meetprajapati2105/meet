{
 "cells": [
  {
   "cell_type": "code",
   "execution_count": 1,
   "id": "01d50c87-2556-404d-ada2-c56f9e810587",
   "metadata": {},
   "outputs": [],
   "source": [
    "## here 1 answer is like swap the value\n",
    "\n"
   ]
  },
  {
   "cell_type": "code",
   "execution_count": 2,
   "id": "118f8512-b6e7-4cb5-a360-d9b1aab0b3cd",
   "metadata": {},
   "outputs": [],
   "source": [
    "##so first declare 2 variable in integer"
   ]
  },
  {
   "cell_type": "code",
   "execution_count": 3,
   "id": "2cbbb162-501f-4d7c-a17f-bb5a9de6bb1d",
   "metadata": {},
   "outputs": [],
   "source": [
    "a = 6\n",
    "b = 4\n"
   ]
  },
  {
   "cell_type": "code",
   "execution_count": 13,
   "id": "afaaad78-709a-4662-8370-3ed9aa2ec49f",
   "metadata": {},
   "outputs": [],
   "source": [
    "#then swap value like eg\n"
   ]
  },
  {
   "cell_type": "code",
   "execution_count": 14,
   "id": "62ca09f3-6891-4515-8832-7f4c0dd46a5f",
   "metadata": {},
   "outputs": [
    {
     "name": "stdout",
     "output_type": "stream",
     "text": [
      "a= 4\n",
      "b= 6\n"
     ]
    }
   ],
   "source": [
    "\n",
    "a = 6\n",
    "b = 4\n",
    "\n",
    "a = a +b\n",
    "b = a - b\n",
    "a = a - b\n",
    "# then at last swapping \n",
    "\n",
    "print(\"a=\",a)\n",
    "print(\"b=\",b)"
   ]
  },
  {
   "cell_type": "code",
   "execution_count": 15,
   "id": "84a614c5-01d2-4fd7-8539-8c329e175b29",
   "metadata": {},
   "outputs": [],
   "source": [
    "# 2nd answer\n",
    "\n"
   ]
  },
  {
   "cell_type": "code",
   "execution_count": 17,
   "id": "3420be7f-3e1a-4bc9-8eaa-3676156507ba",
   "metadata": {},
   "outputs": [
    {
     "name": "stdin",
     "output_type": "stream",
     "text": [
      "Enter  length  1.1\n",
      "Enter  width  2.2\n"
     ]
    },
    {
     "name": "stdout",
     "output_type": "stream",
     "text": [
      "The area= 2.4200000000000004\n"
     ]
    }
   ],
   "source": [
    "l = float(input(\"Enter  length \"))\n",
    "w = float(input(\"Enter  width \"))\n",
    "\n",
    "# Calculate the area\n",
    "area = l * w\n",
    "\n",
    "# Display the result\n",
    "print(\"The area=\", area)"
   ]
  },
  {
   "cell_type": "code",
   "execution_count": 20,
   "id": "ba7fd9df-bf36-4cd7-9212-498b58a607be",
   "metadata": {},
   "outputs": [],
   "source": [
    "#(3) third answer\n",
    "\n"
   ]
  },
  {
   "cell_type": "code",
   "execution_count": 19,
   "id": "6407ec9d-003f-4ac6-99c9-502527e88700",
   "metadata": {},
   "outputs": [
    {
     "name": "stdin",
     "output_type": "stream",
     "text": [
      "Enter temperature Celsius 456\n"
     ]
    },
    {
     "name": "stdout",
     "output_type": "stream",
     "text": [
      "The  Fahrenheit  852.8\n"
     ]
    }
   ],
   "source": [
    "#celsius=c and f- farhenheir\n",
    "c = float(input(\"Enter temperature Celsius\"))\n",
    "\n",
    "#farmula to convert\n",
    "f = (c * 9/5) + 32\n",
    "\n",
    "# final result\n",
    "print(\"The  Fahrenheit \", f)\n"
   ]
  },
  {
   "cell_type": "code",
   "execution_count": 22,
   "id": "2239416c-faf6-4d4a-b79e-946d01ce88fe",
   "metadata": {},
   "outputs": [],
   "source": [
    "#string question 1\n",
    "\n"
   ]
  },
  {
   "cell_type": "code",
   "execution_count": 24,
   "id": "16768e99-40ae-45fc-b6a2-6a7886d05128",
   "metadata": {},
   "outputs": [
    {
     "name": "stdin",
     "output_type": "stream",
     "text": [
      "Enter a string:  4\n"
     ]
    },
    {
     "name": "stdout",
     "output_type": "stream",
     "text": [
      "The length of the string is: 1\n"
     ]
    }
   ],
   "source": [
    "# Input from the user\n",
    "enterinputstring = input(\"Enter a string: \")\n",
    "\n",
    "# Calculate the length of the string\n",
    "stringlength = len(enterinputstring)\n",
    "\n",
    "# Display the length of the string\n",
    "print(\"The length of the string is:\", stringlength)\n"
   ]
  },
  {
   "cell_type": "code",
   "execution_count": 1,
   "id": "9df87f53-6c8a-44e2-9313-5ef533dc1a92",
   "metadata": {},
   "outputs": [
    {
     "name": "stdin",
     "output_type": "stream",
     "text": [
      "Enter a sentence:  poiuytrewsxcvbhaeiou\n"
     ]
    },
    {
     "name": "stdout",
     "output_type": "stream",
     "text": [
      "The number : 9\n"
     ]
    }
   ],
   "source": [
    "# 2 question string portion\n",
    "\n",
    "# Input from the user \n",
    "sentence = input(\"Enter a sentence: \")\n",
    "\n",
    "# Convertcase-insensitive\n",
    "sentence = sentence.lower()\n",
    "\n",
    "# Initialize a vowels\n",
    "vowel_count = 0\n",
    "\n",
    "# vowels\n",
    "vowels = {'a', 'e', 'i', 'o', 'u'}\n",
    "\n",
    "#each character \n",
    "for char in sentence:\n",
    "    # Check if the character is a vowel\n",
    "    if char in vowels:\n",
    "        vowel_count += 1\n",
    "\n",
    "# Display the vowel count\n",
    "print(\"The number :\", vowel_count)\n"
   ]
  },
  {
   "cell_type": "code",
   "execution_count": 2,
   "id": "dd6400e6-e491-4681-81ba-f23257424fa1",
   "metadata": {},
   "outputs": [
    {
     "name": "stdin",
     "output_type": "stream",
     "text": [
      "Enter a string:  156465\n"
     ]
    },
    {
     "name": "stdout",
     "output_type": "stream",
     "text": [
      "Reversed string: 564651\n"
     ]
    }
   ],
   "source": [
    "#3rd questio from st0rin\n",
    "\n",
    "# Input from the user\n",
    "string = input(\"Enter a string: \")\n",
    "\n",
    "# Reverse the string using slicing\n",
    "reversed_string = string[::-1]\n",
    "\n",
    "# Display the reversed string\n",
    "print(\"Reversed string:\", reversed_string)\n"
   ]
  },
  {
   "cell_type": "code",
   "execution_count": 5,
   "id": "654a4b2b-86ac-4cfc-a025-cc1eac19f7ec",
   "metadata": {},
   "outputs": [
    {
     "name": "stdin",
     "output_type": "stream",
     "text": [
      "Enter a string:  hiih\n"
     ]
    },
    {
     "name": "stdout",
     "output_type": "stream",
     "text": [
      "The string is a palindrome.\n"
     ]
    }
   ],
   "source": [
    "#question 4 \n",
    "\n",
    "\n",
    "string = input(\"Enter a string: \")\n",
    "\n",
    "# Remove spaces and convert the string to lowercase\n",
    "cleaned_string = string.replace(\" \", \"\").lower()\n",
    "\n",
    "# Reverse the string\n",
    "reversed_string = cleaned_string[::-1]\n",
    "\n",
    "# Check if the original and reversed strings are the same\n",
    "if cleaned_string == reversed_string:\n",
    "    print(\"The string is a palindrome.\")\n",
    "else:\n",
    "    print(\"The string is not a palindrome.\")\n"
   ]
  },
  {
   "cell_type": "code",
   "execution_count": 8,
   "id": "d942d58c-9c6b-4f1c-bb28-14bf7391cc15",
   "metadata": {},
   "outputs": [
    {
     "name": "stdin",
     "output_type": "stream",
     "text": [
      "Enter a string:  mnbgvfd\n"
     ]
    },
    {
     "name": "stdout",
     "output_type": "stream",
     "text": [
      "Modified string without spaces: mnbgvfd\n"
     ]
    }
   ],
   "source": [
    "#qestion 5\n",
    "\n",
    "\n",
    "\n",
    "# Input \n",
    "input_string = input(\"Enter a string: \")\n",
    "\n",
    "# Remove \n",
    "modified_string = input_string.replace(\" \", \"\")\n",
    "\n",
    "# Display the modified string\n",
    "print(\"Modified string without spaces:\", modified_string)\n",
    "\n"
   ]
  },
  {
   "cell_type": "code",
   "execution_count": null,
   "id": "26ea1ddd-1499-4957-b9ce-85bc04dcd19f",
   "metadata": {},
   "outputs": [],
   "source": []
  }
 ],
 "metadata": {
  "kernelspec": {
   "display_name": "Python 3 (ipykernel)",
   "language": "python",
   "name": "python3"
  },
  "language_info": {
   "codemirror_mode": {
    "name": "ipython",
    "version": 3
   },
   "file_extension": ".py",
   "mimetype": "text/x-python",
   "name": "python",
   "nbconvert_exporter": "python",
   "pygments_lexer": "ipython3",
   "version": "3.10.8"
  }
 },
 "nbformat": 4,
 "nbformat_minor": 5
}
